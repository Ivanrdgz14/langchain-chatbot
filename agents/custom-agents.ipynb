{
 "cells": [
  {
   "cell_type": "code",
   "execution_count": 1,
   "metadata": {},
   "outputs": [],
   "source": [
    "from typing import Union\n",
    "from langchain.llms import LlamaCpp, OpenAI\n",
    "from langchain.chat_models import ChatOpenAI\n",
    "from langchain.tools import BaseTool\n",
    "from langchain.agents import initialize_agent\n",
    "from langchain.agents import tool\n",
    "from langchain import hub\n",
    "from langchain.agents import create_openai_functions_agent, Tool\n",
    "from langchain.agents import AgentExecutor\n",
    "from langchain import LLMMathChain\n",
    "from langchain.tools import DuckDuckGoSearchRun\n",
    "from langchain_core.prompts import ChatPromptTemplate, MessagesPlaceholder\n",
    "from langchain.schema import HumanMessage, SystemMessage\n",
    "from langchain.chains.conversation.memory import ConversationBufferWindowMemory\n",
    "from langchain.agents.output_parsers.openai_tools import OpenAIToolsAgentOutputParser\n",
    "from langchain.agents.format_scratchpad.openai_tools import (\n",
    "    format_to_openai_tool_messages,\n",
    ")\n",
    "import config\n",
    "import os"
   ]
  },
  {
   "cell_type": "code",
   "execution_count": 2,
   "metadata": {},
   "outputs": [],
   "source": [
    "os.environ['OPENAI_API_KEY'] = config.OPENAI_API_KEY"
   ]
  },
  {
   "cell_type": "code",
   "execution_count": 3,
   "metadata": {},
   "outputs": [
    {
     "name": "stderr",
     "output_type": "stream",
     "text": [
      "C:\\Users\\Marco\\AppData\\Local\\Packages\\PythonSoftwareFoundation.Python.3.11_qbz5n2kfra8p0\\LocalCache\\local-packages\\Python311\\site-packages\\langchain_core\\_api\\deprecation.py:117: LangChainDeprecationWarning: The class `langchain_community.chat_models.openai.ChatOpenAI` was deprecated in langchain-community 0.0.10 and will be removed in 0.2.0. An updated version of the class exists in the langchain-openai package and should be used instead. To use it run `pip install -U langchain-openai` and import as `from langchain_openai import ChatOpenAI`.\n",
      "  warn_deprecated(\n"
     ]
    }
   ],
   "source": [
    "llm = ChatOpenAI(model=\"gpt-3.5-turbo\", temperature=0.5)"
   ]
  },
  {
   "cell_type": "code",
   "execution_count": 4,
   "metadata": {},
   "outputs": [],
   "source": [
    "message = [\n",
    "    SystemMessage(\n",
    "        content=\"El usuario te entregara un año y tienes que decir quien fue el ganador de copa mundial de futbol del\"\n",
    "    ),\n",
    "    HumanMessage(\n",
    "        content=\"2022\"\n",
    "    )\n",
    "]"
   ]
  },
  {
   "cell_type": "code",
   "execution_count": 18,
   "metadata": {},
   "outputs": [
    {
     "data": {
      "text/plain": [
       "AIMessage(content='Lo siento, pero no puedo predecir el futuro. La Copa Mundial de la FIFA 2022 se llevará a cabo en Qatar y el ganador aún no ha sido determinado. Tendremos que esperar hasta que se jueguen los partidos para conocer al campeón. ¡Estemos atentos y disfrutemos del torneo!', response_metadata={'finish_reason': 'stop', 'logprobs': None})"
      ]
     },
     "execution_count": 18,
     "metadata": {},
     "output_type": "execute_result"
    }
   ],
   "source": [
    "llm.invoke(message)"
   ]
  },
  {
   "cell_type": "markdown",
   "metadata": {},
   "source": [
    "## **Creamos un agente**"
   ]
  },
  {
   "cell_type": "code",
   "execution_count": 6,
   "metadata": {},
   "outputs": [],
   "source": [
    "prompt = hub.pull(\"hwchase17/openai-functions-agent\")"
   ]
  },
  {
   "cell_type": "code",
   "execution_count": 7,
   "metadata": {},
   "outputs": [
    {
     "data": {
      "text/plain": [
       "ChatPromptTemplate(input_variables=['agent_scratchpad', 'input'], input_types={'chat_history': typing.List[typing.Union[langchain_core.messages.ai.AIMessage, langchain_core.messages.human.HumanMessage, langchain_core.messages.chat.ChatMessage, langchain_core.messages.system.SystemMessage, langchain_core.messages.function.FunctionMessage, langchain_core.messages.tool.ToolMessage]], 'agent_scratchpad': typing.List[typing.Union[langchain_core.messages.ai.AIMessage, langchain_core.messages.human.HumanMessage, langchain_core.messages.chat.ChatMessage, langchain_core.messages.system.SystemMessage, langchain_core.messages.function.FunctionMessage, langchain_core.messages.tool.ToolMessage]]}, metadata={'lc_hub_owner': 'hwchase17', 'lc_hub_repo': 'openai-functions-agent', 'lc_hub_commit_hash': 'a1655024b06afbd95d17449f21316291e0726f13dcfaf990cc0d18087ad689a5'}, messages=[SystemMessagePromptTemplate(prompt=PromptTemplate(input_variables=[], template='You are a helpful assistant')), MessagesPlaceholder(variable_name='chat_history', optional=True), HumanMessagePromptTemplate(prompt=PromptTemplate(input_variables=['input'], template='{input}')), MessagesPlaceholder(variable_name='agent_scratchpad')])"
      ]
     },
     "execution_count": 7,
     "metadata": {},
     "output_type": "execute_result"
    }
   ],
   "source": [
    "prompt"
   ]
  },
  {
   "cell_type": "code",
   "execution_count": 8,
   "metadata": {},
   "outputs": [],
   "source": [
    "llm_math_chain = LLMMathChain.from_llm(llm=llm, verbose=True)"
   ]
  },
  {
   "cell_type": "code",
   "execution_count": 9,
   "metadata": {},
   "outputs": [],
   "source": [
    "math_tool = Tool.from_function(\n",
    "    func=llm_math_chain.run,\n",
    "    name=\"Calculadora\",\n",
    "    description=\"Asistente que resuelve problemas matemáticos y nada más\",\n",
    ")"
   ]
  },
  {
   "cell_type": "code",
   "execution_count": 10,
   "metadata": {},
   "outputs": [],
   "source": [
    "search = DuckDuckGoSearchRun()"
   ]
  },
  {
   "cell_type": "code",
   "execution_count": 11,
   "metadata": {},
   "outputs": [],
   "source": [
    "tools = [math_tool, search]"
   ]
  },
  {
   "cell_type": "code",
   "execution_count": 12,
   "metadata": {},
   "outputs": [],
   "source": [
    "agent = create_openai_functions_agent(llm=llm, tools=tools, prompt=prompt)"
   ]
  },
  {
   "cell_type": "code",
   "execution_count": 13,
   "metadata": {},
   "outputs": [],
   "source": [
    "agent_executor = AgentExecutor(agent=agent, tools=tools, verbose=True)"
   ]
  },
  {
   "cell_type": "code",
   "execution_count": 19,
   "metadata": {},
   "outputs": [
    {
     "name": "stdout",
     "output_type": "stream",
     "text": [
      "\n",
      "\n",
      "\u001b[1m> Entering new AgentExecutor chain...\u001b[0m\n",
      "\u001b[32;1m\u001b[1;3m\n",
      "Invoking: `duckduckgo_search` with `{'query': 'Ganador copa mundial de futbol 2022'}`\n",
      "\n",
      "\n",
      "\u001b[0m\u001b[33;1m\u001b[1;3mLa última Copa Mundial de la FIFA se disputó en Catar entre el 20 de noviembre y el 18 de diciembre.La 22° edición del máximo evento deportivo hizo vibrar el planeta al ritmo de la pelota, en ... Mira todos los goles del delantero francés en la Copa Mundial de la FIFA Catar 2022™. Además, Enzo Fernández se hizo con el premio al Mejor Jugador Joven gracias a su dinámico despliegue en ... Este 28 de marzo de 2023 se cumplen 100 días de la tercera consagración de Argentina como campeón del mundo. El 18 de diciembre de 2022, la selección de argentina venció por penales a Francia, en la histórica final de la Copa del Mundial de la FIFA, y se consagró campeón del mundo después de 36 años, con un espectacular Lionel Messi a la cabeza dentro de la cancha y un equipo que ... Partidos y resultados de la Jornada Final de Mundial Qatar 2022. Además toda la clasificación, horarios, estadísticas, partidos en directo, equipos, vídeos y todas las noticias de Mundial ... Los premios de la final. Emiliano \"Dibu\" Martínez obtuvo el guante de oro, al ser considerado el mejor portero del Mundial. Enzo González obtuvo el \"Golden Boy\" por ser el mejor jugador ...\u001b[0m\u001b[32;1m\u001b[1;3mEl ganador de la Copa Mundial de Fútbol del 2022 fue la selección de Argentina. En la histórica final, Argentina venció por penales a Francia y se consagró campeón del mundo después de 36 años. Lionel Messi fue una pieza clave en el equipo argentino.\u001b[0m\n",
      "\n",
      "\u001b[1m> Finished chain.\u001b[0m\n"
     ]
    },
    {
     "data": {
      "text/plain": [
       "{'input': '¿Quién ganó la copa mundial de futbol del 2022?',\n",
       " 'output': 'El ganador de la Copa Mundial de Fútbol del 2022 fue la selección de Argentina. En la histórica final, Argentina venció por penales a Francia y se consagró campeón del mundo después de 36 años. Lionel Messi fue una pieza clave en el equipo argentino.'}"
      ]
     },
     "execution_count": 19,
     "metadata": {},
     "output_type": "execute_result"
    }
   ],
   "source": [
    "agent_executor.invoke(\n",
    "    {\"input\": \"¿Quién ganó la copa mundial de futbol del 2022?\"})"
   ]
  },
  {
   "cell_type": "code",
   "execution_count": 15,
   "metadata": {},
   "outputs": [
    {
     "name": "stdout",
     "output_type": "stream",
     "text": [
      "\n",
      "\n",
      "\u001b[1m> Entering new AgentExecutor chain...\u001b[0m\n",
      "\u001b[32;1m\u001b[1;3m\n",
      "Invoking: `duckduckgo_search` with `{'query': 'edad del presidente de mexico'}`\n",
      "\n",
      "\n",
      "\u001b[0m\u001b[33;1m\u001b[1;3mAndrés Manuel López Obrador (born November 13, 1953, Villa de Tepetitán, Tabasco, Mexico) centre-left populist Mexican politician who was elected president of Mexico in July 2018. Previously he served as head of the Federal District government (2000-05) and ran unsuccessfully for president in 2006 and 2012.. Early life and political career. López Obrador was born into a provincial middle ... El presidente de México, Andrés Manuel López Obrador (), festeja su cumpleaños número 70 este lunes 13 de noviembre, a pesar de que ayer le cantaron 'Las mañanitas' durante un evento en Baja ... Según la Constitución mexicana, en el artículo 82 constan los requisitos para ser presidente en México: ser mexicano por nacimiento o bien ser hijo de padre o madre mexicanos y haber vivido en nuestro país al menos durante 20 años. También que al momento de la elección, tenga 35 años cumplidos. Se suma haber residido en el país ... El presidente municipal de Chahuites, Joaquín Martínez López, fue asesinado frente a su domicilio la noche del lunes 18 de marzo, un suceso que ha consternado a la comunidad del estado de Oaxaca. El titular de la Presidencia debe cumplir sus funciones en coordinación con el Poder Judicial y Legislativo. Te decimos cuáles son\u001b[0m\u001b[32;1m\u001b[1;3m\n",
      "Invoking: `duckduckgo_search` with `{'query': 'edad de Luisito Comunica'}`\n",
      "\n",
      "\n",
      "\u001b[0m\u001b[33;1m\u001b[1;3mLuis Arturo Villar Sudek es el nombre real de Luisito Comunica, un mexicano procedente de Puebla, que nació el 20 de marzo de 1991.Estudió Ciencias de la comunicación. Es uno de los youtubers más seguidos y respetados del mundo. Su canal, con 42 millones de suscriptores, se encuentra en los ránkings más altos de creadores de contenido de habla hispana, junto con El Rubius o Fernanfloo. Luisito Comunica es uno de los youtubers más seguidos y respetados del mundo.Su canal, con 40,8 millones de suscriptores, se encuentra en los ránkings más altos de creadores de contenido de ... Descubre cuál fue el primer video del conocido Youtuber Luisito comunica que cumple años el 20 de marzo. Fue entonces que en junio de 2019 la relación entre Lenguas de Gato y Luisito Comunica terminó. Estas revelaciones causaron revuelo en redes sociales y de inmediato los usuarios inundaron el ... La fama tiene un precio y eso lo sabe Luisito Comunica, quien si bien disfruta del reconocimiento de sus seguidores y que le pidan autógrafos y selfies, también ha tenido que proteger su ...\u001b[0m\u001b[32;1m\u001b[1;3mEl presidente de México, Andrés Manuel López Obrador, tiene 70 años de edad, ya que nació el 13 de noviembre de 1953. Por otro lado, Luisito Comunica tiene 30 años de edad, ya que nació el 20 de marzo de 1991. La diferencia en años de sus edades es de 40 años.\u001b[0m\n",
      "\n",
      "\u001b[1m> Finished chain.\u001b[0m\n"
     ]
    },
    {
     "data": {
      "text/plain": [
       "{'input': '¿Que edad tiene el presidente de mexico y Luisito comunica? y ¿Cual es la diferencia en años de sus edades?',\n",
       " 'output': 'El presidente de México, Andrés Manuel López Obrador, tiene 70 años de edad, ya que nació el 13 de noviembre de 1953. Por otro lado, Luisito Comunica tiene 30 años de edad, ya que nació el 20 de marzo de 1991. La diferencia en años de sus edades es de 40 años.'}"
      ]
     },
     "execution_count": 15,
     "metadata": {},
     "output_type": "execute_result"
    }
   ],
   "source": [
    "agent_executor.invoke(\n",
    "    {\"input\": \"¿Que edad tiene el presidente de mexico y Luisito comunica? y ¿Cual es la diferencia en años de sus edades?\"})"
   ]
  },
  {
   "cell_type": "code",
   "execution_count": 16,
   "metadata": {},
   "outputs": [
    {
     "name": "stdout",
     "output_type": "stream",
     "text": [
      "\n",
      "\n",
      "\u001b[1m> Entering new AgentExecutor chain...\u001b[0m\n",
      "\u001b[32;1m\u001b[1;3m\n",
      "Invoking: `Calculadora` with `24 * 5 + 45 / 5 - 2`\n",
      "\n",
      "\n",
      "\u001b[0m\n",
      "\n",
      "\u001b[1m> Entering new LLMMathChain chain...\u001b[0m\n",
      "24 * 5 + 45 / 5 - 2\u001b[32;1m\u001b[1;3m```text\n",
      "24 * 5 + 45 / 5 - 2\n",
      "```\n",
      "...numexpr.evaluate(\"24 * 5 + 45 / 5 - 2\")...\n",
      "\u001b[0m\n",
      "Answer: \u001b[33;1m\u001b[1;3m127.0\u001b[0m\n",
      "\u001b[1m> Finished chain.\u001b[0m\n",
      "\u001b[36;1m\u001b[1;3mAnswer: 127.0\u001b[0m\u001b[32;1m\u001b[1;3mEl resultado de la operación es 127.\u001b[0m\n",
      "\n",
      "\u001b[1m> Finished chain.\u001b[0m\n"
     ]
    },
    {
     "data": {
      "text/plain": [
       "{'input': '¿Cuanto es 24 * 5 + 45 / 5 - 2?',\n",
       " 'output': 'El resultado de la operación es 127.'}"
      ]
     },
     "execution_count": 16,
     "metadata": {},
     "output_type": "execute_result"
    }
   ],
   "source": [
    "agent_executor.invoke(\n",
    "    {\"input\": \"¿Cuanto es 24 * 5 + 45 / 5 - 2?\"})"
   ]
  },
  {
   "cell_type": "code",
   "execution_count": 17,
   "metadata": {},
   "outputs": [
    {
     "name": "stdout",
     "output_type": "stream",
     "text": [
      "\n",
      "\n",
      "\u001b[1m> Entering new AgentExecutor chain...\u001b[0m\n",
      "\u001b[32;1m\u001b[1;3m\n",
      "Invoking: `duckduckgo_search` with `{'query': 'carreras en la Universidad del Caribe Cancún'}`\n",
      "\n",
      "\n",
      "\u001b[0m\u001b[33;1m\u001b[1;3mCancún. - La Universidad del Caribe contará con una nueva carrera en Ingeniería en Inteligencia Artificial, enfocada en la creación y aplicación de sistemas inteligentes capaces de realizar tareas que normalmente requieren la intervención humana. Con las nuevas carreras la Universidad del Caribe espera llegas a los 5 mil 400 alumnos. Cancún, Q. Roo.- Actualmente, la Universidad del Caribe mantiene una matrícula de 3,800 alumnos y alumnas, pero con la apertura de las nuevas ingenierías, que será ingeniería en industria alimentaria e ingeniería en Inteligencia Artificial, se estima ... Cancun, Q. Roo.- La Universidad del Caribe acaba de lanzar su convocatoria de admision 2024, donde o... La Inteligencia Artificial está en auge en una nueva era digital y los jóvenes están cada vez más interesados en incursionar en ella.. Por ello, la Universidad del Caribe puso en marcha dos nuevas carreras, entre las que destaca la Ingeniería en Inteligencia Artificial.. Ante ello, se espera para el nuevo ciclo escolar un aumento de alrededor de 1,200 alumnos, en comparación con los que ... Ofreceremos programas más competitivos: Vanegas. Por Pablo Vázquez > Quequi. Cancún, Q. Roo. La rectora de la Universidad del Caribe, Marisol Vanegas, confirmó que proyectan la apertura de tres nuevas carreras en el próximo año durante el mes de agosto \"Tenemos programadas tres nuevas carreras, tenemos programado hacer un viaje a Monterrey a la Autónoma de Nuevo León y al Tec de ...\u001b[0m\u001b[32;1m\u001b[1;3mLa Universidad del Caribe en Cancún ofrece diversas carreras, entre las cuales se destacan la Ingeniería en Industria Alimentaria y la Ingeniería en Inteligencia Artificial. Además, se proyecta la apertura de tres nuevas carreras en el próximo año.\u001b[0m\n",
      "\n",
      "\u001b[1m> Finished chain.\u001b[0m\n"
     ]
    },
    {
     "data": {
      "text/plain": [
       "{'input': '¿Que carreras hay en la universidad del caribe cancun?',\n",
       " 'output': 'La Universidad del Caribe en Cancún ofrece diversas carreras, entre las cuales se destacan la Ingeniería en Industria Alimentaria y la Ingeniería en Inteligencia Artificial. Además, se proyecta la apertura de tres nuevas carreras en el próximo año.'}"
      ]
     },
     "execution_count": 17,
     "metadata": {},
     "output_type": "execute_result"
    }
   ],
   "source": [
    "agent_executor.invoke(\n",
    "    {\"input\": \"¿Que carreras hay en la universidad del caribe cancun?\"})"
   ]
  }
 ],
 "metadata": {
  "kernelspec": {
   "display_name": "Python 3",
   "language": "python",
   "name": "python3"
  },
  "language_info": {
   "codemirror_mode": {
    "name": "ipython",
    "version": 3
   },
   "file_extension": ".py",
   "mimetype": "text/x-python",
   "name": "python",
   "nbconvert_exporter": "python",
   "pygments_lexer": "ipython3",
   "version": "3.11.8"
  }
 },
 "nbformat": 4,
 "nbformat_minor": 2
}
